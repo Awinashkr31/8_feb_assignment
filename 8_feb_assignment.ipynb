{
 "cells": [
  {
   "cell_type": "code",
   "execution_count": 1,
   "id": "001945e6-9ae6-4f09-8aba-8ae87553aced",
   "metadata": {},
   "outputs": [],
   "source": [
    "# Q1. What is Abstraction in OOps? Explain with an example."
   ]
  },
  {
   "cell_type": "code",
   "execution_count": 1,
   "id": "302b42d6-874b-4781-bb09-d0838cd62ad4",
   "metadata": {},
   "outputs": [
    {
     "name": "stdout",
     "output_type": "stream",
     "text": [
      "200\n",
      "78.5\n"
     ]
    }
   ],
   "source": [
    "\"\"\"  Abstraction is a fundamental concept in object-oriented programming that allows us to hide the implementation details of a\n",
    "     complex system and provide only the necessary information to the users. This helps to reduce the complexity of the\n",
    "     system and makes it easy to use and maintain.\n",
    "\n",
    "     In Python, abstraction can be achieved through the use of abstract classes and interfaces. An abstract class is a \n",
    "     class that cannot be instantiated and contains one or more abstract methods that do not have any implementation. \n",
    "     An interface is a set of abstract methods that define the behavior of an object. \"\"\"\n",
    "\n",
    "\n",
    "from abc import ABC, abstractmethod\n",
    "\n",
    "class Shape(ABC):\n",
    "    @abstractmethod\n",
    "    def area(self):\n",
    "        pass\n",
    "\n",
    "class Rectangle(Shape):\n",
    "    def __init__(self, width, height):\n",
    "        self.width = width\n",
    "        self.height = height\n",
    "    \n",
    "    def area(self):\n",
    "        return self.width * self.height\n",
    "\n",
    "class Circle(Shape):\n",
    "    def __init__(self, radius):\n",
    "        self.radius = radius\n",
    "    \n",
    "    def area(self):\n",
    "        return 3.14 * self.radius * self.radius\n",
    "\n",
    "r = Rectangle(10, 20)\n",
    "print(r.area()) # Output: 200\n",
    "\n",
    "c = Circle(5)\n",
    "print(c.area()) # Output: 78.5\n"
   ]
  },
  {
   "cell_type": "code",
   "execution_count": 3,
   "id": "d4f75652-4fbe-4cfd-a8ae-c2f75bcebc1d",
   "metadata": {},
   "outputs": [],
   "source": [
    "# Q2. Differentiate between Abstraction and Encapsulation. Explain with an example."
   ]
  },
  {
   "cell_type": "code",
   "execution_count": 1,
   "id": "0bbc2e20-086b-4804-8cc7-334c1e54c374",
   "metadata": {},
   "outputs": [
    {
     "name": "stdout",
     "output_type": "stream",
     "text": [
      "4000\n"
     ]
    }
   ],
   "source": [
    "\"\"\" Abstraction and Encapsulation are two fundamental concepts in object-oriented programming. They are closely related but have\n",
    "    different meanings and serve different purposes. Here are the differences between the two:\n",
    "\n",
    "  1. Abstraction focuses on the behavior of an object, while Encapsulation focuses on the internal representation of an object.\n",
    "\n",
    "  2. Abstraction hides the complexity of a system by showing only the necessary details, while Encapsulation hides the internal\n",
    "     details of an object and provides a clean public interface to interact with it.  \"\"\"\n",
    "\n",
    "\n",
    "class BankAccount:\n",
    "    def __init__(self, account_number, balance):\n",
    "        self.__account_number = account_number\n",
    "        self.__balance = balance\n",
    "\n",
    "    def deposit(self, amount):\n",
    "        self.__balance += amount\n",
    "\n",
    "    def withdraw(self, amount):\n",
    "        if amount <= self.__balance:\n",
    "            self.__balance -= amount\n",
    "        else:\n",
    "            print(\"Insufficient balance\")\n",
    "\n",
    "    def get_balance(self):\n",
    "        return self.__balance\n",
    "\n",
    "b = BankAccount(1234, 5000)\n",
    "b.deposit(1000)\n",
    "b.withdraw(2000)\n",
    "print(b.get_balance())\n"
   ]
  },
  {
   "cell_type": "code",
   "execution_count": 2,
   "id": "55ee1d4c-16ad-4394-b526-f1051491bb43",
   "metadata": {},
   "outputs": [],
   "source": [
    "# Q3. What is abc module in python? Why is it used?"
   ]
  },
  {
   "cell_type": "code",
   "execution_count": 3,
   "id": "2c12bfef-07ec-4636-a20a-cda2e489f82d",
   "metadata": {},
   "outputs": [
    {
     "name": "stdout",
     "output_type": "stream",
     "text": [
      "200\n",
      "78.5\n"
     ]
    }
   ],
   "source": [
    "\"\"\"  The abc (Abstract Base Classes) module in Python is used to define abstract classes that cannot be instantiated and contain \n",
    "     one or more abstract methods. Abstract classes are used to define a common interface for a group of related classes, and \n",
    "     provide a way to enforce the same behavior in all these classes.\n",
    "\n",
    "     The abc module provides the ABC class that can be used as a base class for creating abstract classes. Abstract classes can\n",
    "     contain abstract methods that do not have any implementation, but must be overridden by any concrete class that inherits\n",
    "     from the abstract class. This helps to enforce a consistent behavior in all the classes that inherit from the abstract class. \"\"\"\n",
    "\n",
    "from abc import ABC, abstractmethod\n",
    "\n",
    "class Shape(ABC):\n",
    "    @abstractmethod\n",
    "    def area(self):\n",
    "        pass\n",
    "\n",
    "class Rectangle(Shape):\n",
    "    def __init__(self, width, height):\n",
    "        self.width = width\n",
    "        self.height = height\n",
    "    \n",
    "    def area(self):\n",
    "        return self.width * self.height\n",
    "\n",
    "class Circle(Shape):\n",
    "    def __init__(self, radius):\n",
    "        self.radius = radius\n",
    "    \n",
    "    def area(self):\n",
    "        return 3.14 * self.radius * self.radius\n",
    "\n",
    "r = Rectangle(10, 20)\n",
    "print(r.area()) # Output: 200\n",
    "\n",
    "c = Circle(5)\n",
    "print(c.area()) # Output: 78.5\n"
   ]
  },
  {
   "cell_type": "code",
   "execution_count": 4,
   "id": "6198c3f0-6e1e-4932-b6fa-86b53cdf1faf",
   "metadata": {},
   "outputs": [],
   "source": [
    "# Q4. How can we achieve data abstraction?"
   ]
  },
  {
   "cell_type": "code",
   "execution_count": 5,
   "id": "13cbb60a-1eeb-4b31-a51c-c1c7fb67f0d4",
   "metadata": {},
   "outputs": [
    {
     "name": "stdout",
     "output_type": "stream",
     "text": [
      "4000\n"
     ]
    }
   ],
   "source": [
    "\"\"\" In Python, we can achieve data abstraction by defining abstract classes and interfaces that define the behavior of a system,\n",
    "    and then implementing these classes to create concrete classes that represent the data and provide the necessary functionality.\n",
    "\n",
    "    Here are the steps to achieve data abstraction:\n",
    "\n",
    " 1. Define an abstract class or interface that defines the behavior of the system, and contains one or more abstract methods \n",
    "    that do not have any implementation.\n",
    "\n",
    " 2. Implement the abstract class or interface to create a concrete class that represents the data and provides the necessary\n",
    "    functionality.\n",
    "\n",
    " 3. Use the concrete class to create objects and interact with the data. \"\"\"\n",
    "\n",
    "from abc import ABC, abstractmethod\n",
    "\n",
    "class BankAccount(ABC):\n",
    "    @abstractmethod\n",
    "    def deposit(self, amount):\n",
    "        pass\n",
    "\n",
    "    @abstractmethod\n",
    "    def withdraw(self, amount):\n",
    "        pass\n",
    "\n",
    "    @abstractmethod\n",
    "    def get_balance(self):\n",
    "        pass\n",
    "\n",
    "class SavingsAccount(BankAccount):\n",
    "    def __init__(self, balance=0):\n",
    "        self.balance = balance\n",
    "\n",
    "    def deposit(self, amount):\n",
    "        self.balance += amount\n",
    "\n",
    "    def withdraw(self, amount):\n",
    "        if amount <= self.balance:\n",
    "            self.balance -= amount\n",
    "        else:\n",
    "            print(\"Insufficient balance\")\n",
    "\n",
    "    def get_balance(self):\n",
    "        return self.balance\n",
    "\n",
    "s = SavingsAccount(5000)\n",
    "s.deposit(1000)\n",
    "s.withdraw(2000)\n",
    "print(s.get_balance())\n"
   ]
  },
  {
   "cell_type": "code",
   "execution_count": 6,
   "id": "ff0deb31-6cea-418a-babd-4882adec2d9f",
   "metadata": {},
   "outputs": [],
   "source": [
    "# Q5. Can we create an instance of an abstract class? Explain your answer."
   ]
  },
  {
   "cell_type": "code",
   "execution_count": 7,
   "id": "37a4842e-db20-4662-9c6f-9292c783457f",
   "metadata": {},
   "outputs": [
    {
     "name": "stdout",
     "output_type": "stream",
     "text": [
      "200\n"
     ]
    },
    {
     "ename": "TypeError",
     "evalue": "Can't instantiate abstract class Shape with abstract method area",
     "output_type": "error",
     "traceback": [
      "\u001b[0;31m---------------------------------------------------------------------------\u001b[0m",
      "\u001b[0;31mTypeError\u001b[0m                                 Traceback (most recent call last)",
      "Cell \u001b[0;32mIn[7], line 29\u001b[0m\n\u001b[1;32m     26\u001b[0m r \u001b[38;5;241m=\u001b[39m Rectangle(\u001b[38;5;241m10\u001b[39m, \u001b[38;5;241m20\u001b[39m)\n\u001b[1;32m     27\u001b[0m \u001b[38;5;28mprint\u001b[39m(r\u001b[38;5;241m.\u001b[39marea()) \u001b[38;5;66;03m# Output: 200\u001b[39;00m\n\u001b[0;32m---> 29\u001b[0m s \u001b[38;5;241m=\u001b[39m \u001b[43mShape\u001b[49m\u001b[43m(\u001b[49m\u001b[43m)\u001b[49m \u001b[38;5;66;03m# This will raise an error\u001b[39;00m\n",
      "\u001b[0;31mTypeError\u001b[0m: Can't instantiate abstract class Shape with abstract method area"
     ]
    }
   ],
   "source": [
    "\"\"\"  No, we cannot create an instance of an abstract class in Python.\n",
    "\n",
    "     An abstract class is a class that is meant to be inherited by other classes, and is not meant to be instantiated directly.\n",
    "     Abstract classes contain one or more abstract methods that do not have any implementation, and these methods must be\n",
    "     implemented by the concrete class that inherits from the abstract class.\n",
    "\n",
    "     If we try to create an instance of an abstract class, we will get a TypeError with the message \"Can't instantiate abstract \n",
    "     class <class_name> with abstract methods <method_name>\". This is because the abstract class does not provide any\n",
    "     implementation for the abstract methods, and therefore cannot be instantiated. \"\"\"\n",
    "\n",
    "from abc import ABC, abstractmethod\n",
    "\n",
    "class Shape(ABC):\n",
    "    @abstractmethod\n",
    "    def area(self):\n",
    "        pass\n",
    "\n",
    "class Rectangle(Shape):\n",
    "    def __init__(self, width, height):\n",
    "        self.width = width\n",
    "        self.height = height\n",
    "    \n",
    "    def area(self):\n",
    "        return self.width * self.height\n",
    "\n",
    "r = Rectangle(10, 20)\n",
    "print(r.area()) # Output: 200\n",
    "\n",
    "s = Shape() # This will raise an error\n"
   ]
  },
  {
   "cell_type": "code",
   "execution_count": null,
   "id": "b6cfe59f-0437-4d2b-85fb-40158dbcdf6a",
   "metadata": {},
   "outputs": [],
   "source": []
  }
 ],
 "metadata": {
  "kernelspec": {
   "display_name": "Python 3 (ipykernel)",
   "language": "python",
   "name": "python3"
  },
  "language_info": {
   "codemirror_mode": {
    "name": "ipython",
    "version": 3
   },
   "file_extension": ".py",
   "mimetype": "text/x-python",
   "name": "python",
   "nbconvert_exporter": "python",
   "pygments_lexer": "ipython3",
   "version": "3.10.8"
  }
 },
 "nbformat": 4,
 "nbformat_minor": 5
}
